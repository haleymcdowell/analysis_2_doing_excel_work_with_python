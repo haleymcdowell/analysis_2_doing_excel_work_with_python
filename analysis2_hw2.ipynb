{
 "cells": [
  {
   "cell_type": "markdown",
   "metadata": {
    "Collapsed": "false"
   },
   "source": [
    "# HW2 Analysis 2: Wrangling csv files\n",
    "\n",
    "Environmental analytics firm consultant wrangling csv files from temperature monitor in local streams.\n",
    "\n",
    "By: Haley McDowell"
   ]
  },
  {
   "cell_type": "markdown",
   "metadata": {
    "Collapsed": "false"
   },
   "source": [
    "## Preliminaries"
   ]
  },
  {
   "cell_type": "code",
   "execution_count": 384,
   "metadata": {
    "Collapsed": "false"
   },
   "outputs": [
    {
     "name": "stdout",
     "output_type": "stream",
     "text": [
      "The autoreload extension is already loaded. To reload it, use:\n",
      "  %reload_ext autoreload\n"
     ]
    }
   ],
   "source": [
    "# To auto-reload modules in jupyter notebook (so that changes in files *.py doesn't require manual reloading):\n",
    "# https://stackoverflow.com/questions/5364050/reloading-submodules-in-ipython\n",
    "%load_ext autoreload\n",
    "%autoreload 2"
   ]
  },
  {
   "cell_type": "markdown",
   "metadata": {
    "Collapsed": "false"
   },
   "source": [
    "Import commonly used libraries and magic command for inline plotting"
   ]
  },
  {
   "cell_type": "code",
   "execution_count": 385,
   "metadata": {
    "Collapsed": "false"
   },
   "outputs": [],
   "source": [
    "import numpy as np\n",
    "import pandas as pd\n",
    "import matplotlib.pyplot as plt\n",
    "import seaborn as sns\n",
    "import openpyxl"
   ]
  },
  {
   "cell_type": "code",
   "execution_count": 386,
   "metadata": {},
   "outputs": [],
   "source": [
    "%matplotlib inline"
   ]
  },
  {
   "cell_type": "markdown",
   "metadata": {
    "Collapsed": "false"
   },
   "source": [
    "## Consolidation"
   ]
  },
  {
   "cell_type": "code",
   "execution_count": 387,
   "metadata": {
    "Collapsed": "false"
   },
   "outputs": [],
   "source": [
    "from openpyxl import Workbook\n",
    "from pathlib import Path\n",
    "from openpyxl.utils.dataframe import dataframe_to_rows"
   ]
  },
  {
   "cell_type": "code",
   "execution_count": 388,
   "metadata": {},
   "outputs": [],
   "source": [
    "# Create blank excel workbook named BCM.xlsx.\n",
    "\n",
    "wb = Workbook()\n",
    "wb.save('data/BCM.xlsx')"
   ]
  },
  {
   "cell_type": "code",
   "execution_count": 389,
   "metadata": {},
   "outputs": [],
   "source": [
    "# Set directory.\n",
    "\n",
    "data_dir = Path.cwd() / \"data\""
   ]
  },
  {
   "cell_type": "code",
   "execution_count": 390,
   "metadata": {},
   "outputs": [],
   "source": [
    "# Add each csv file as a new worksheet to the BCM.xlsx.\n",
    "\n",
    "for file in data_dir.rglob('*.csv'):\n",
    "    # Create dataframe with specified column headers and datetime as dates.\n",
    "    df = pd.read_csv(file, header = None, names = ['datetime', 'scale', 'temperature'], parse_dates = ['datetime'])\n",
    "    # Set the name for each worksheet to be the file name without the .csv.\n",
    "    ws_name = file.stem\n",
    "    # Create a new worksheet.\n",
    "    ws = wb.create_sheet(title = ws_name)\n",
    "    # Add dataframe to new worksheet.\n",
    "    for r in dataframe_to_rows(df, index=False, header=True):\n",
    "        ws.append(r)"
   ]
  },
  {
   "cell_type": "code",
   "execution_count": 391,
   "metadata": {},
   "outputs": [],
   "source": [
    "# Save file.\n",
    "\n",
    "wb.save('data/BCM.xlsx')"
   ]
  },
  {
   "cell_type": "markdown",
   "metadata": {},
   "source": [
    "## Summarization"
   ]
  },
  {
   "cell_type": "code",
   "execution_count": 392,
   "metadata": {},
   "outputs": [],
   "source": [
    "from openpyxl import load_workbook, styles"
   ]
  },
  {
   "cell_type": "code",
   "execution_count": 393,
   "metadata": {},
   "outputs": [],
   "source": [
    "# Open the modified BCM.xlsx.\n",
    "\n",
    "wb = load_workbook(filename = 'data/BCM.xlsx')"
   ]
  },
  {
   "cell_type": "code",
   "execution_count": 394,
   "metadata": {},
   "outputs": [],
   "source": [
    "# Add minimum temperature.\n",
    "\n",
    "for worksheet in wb.worksheets[1:]:\n",
    "    worksheet[\"G2\"] = \"min_temp\"\n",
    "    last_row = worksheet.max_row\n",
    "    worksheet['H2'] = f\"=MIN(C2:C{last_row})\"\n",
    "    worksheet['H2'].number_format = \"0.0\""
   ]
  },
  {
   "cell_type": "code",
   "execution_count": 395,
   "metadata": {},
   "outputs": [],
   "source": [
    "# Add maximum temperature.\n",
    "\n",
    "for worksheet in wb.worksheets[1:]:\n",
    "    worksheet[\"G3\"] = \"max_temp\"\n",
    "    last_row = worksheet.max_row\n",
    "    worksheet['H3'] = f\"=MAX(C2:C{last_row})\"\n",
    "    worksheet['H3'].number_format = \"0.0\""
   ]
  },
  {
   "cell_type": "code",
   "execution_count": 396,
   "metadata": {},
   "outputs": [],
   "source": [
    "# Add mean temperature.\n",
    "\n",
    "for worksheet in wb.worksheets[1:]:\n",
    "    worksheet[\"G4\"] = \"mean_temp\"\n",
    "    last_row = worksheet.max_row\n",
    "    worksheet['H4'] = f\"=AVERAGE(C2:C{last_row})\"\n",
    "    worksheet['H4'].number_format = \"0.0\""
   ]
  },
  {
   "cell_type": "code",
   "execution_count": 397,
   "metadata": {},
   "outputs": [],
   "source": [
    "# Add minimum date.\n",
    "\n",
    "for worksheet in wb.worksheets[1:]:\n",
    "    worksheet[\"G6\"] = \"min_date\"\n",
    "    last_row = worksheet.max_row\n",
    "    worksheet['H6'] = f\"=MIN(A2:A{last_row})\"\n",
    "    worksheet['H6'].number_format = 'yyyy-mm-dd h:mm:ss'"
   ]
  },
  {
   "cell_type": "code",
   "execution_count": 398,
   "metadata": {},
   "outputs": [],
   "source": [
    "# Add maximum date.\n",
    "\n",
    "for worksheet in wb.worksheets[1:]:\n",
    "    worksheet[\"G7\"] = \"max_date\"\n",
    "    last_row = worksheet.max_row\n",
    "    worksheet['H7'] = f\"=MAX(A2:A{last_row})\"\n",
    "    worksheet['H7'].number_format = 'yyyy-mm-dd h:mm:ss'"
   ]
  },
  {
   "cell_type": "code",
   "execution_count": 399,
   "metadata": {},
   "outputs": [],
   "source": [
    "# Save workbook.\n",
    "\n",
    "wb.save('data/BCM.xlsx')"
   ]
  },
  {
   "cell_type": "code",
   "execution_count": null,
   "metadata": {},
   "outputs": [],
   "source": []
  }
 ],
 "metadata": {
  "kernelspec": {
   "display_name": "Python [conda env:aap]",
   "language": "python",
   "name": "conda-env-aap-py"
  },
  "language_info": {
   "codemirror_mode": {
    "name": "ipython",
    "version": 3
   },
   "file_extension": ".py",
   "mimetype": "text/x-python",
   "name": "python",
   "nbconvert_exporter": "python",
   "pygments_lexer": "ipython3",
   "version": "3.12.9"
  },
  "toc-autonumbering": true
 },
 "nbformat": 4,
 "nbformat_minor": 4
}
